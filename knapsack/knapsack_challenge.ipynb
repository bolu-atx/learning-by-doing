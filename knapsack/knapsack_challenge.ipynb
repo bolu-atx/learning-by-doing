{
 "cells": [
  {
   "cell_type": "markdown",
   "metadata": {},
   "source": [
    "This notebook was prepared by [Donne Martin](https://github.com/donnemartin). Source and license info is on [GitHub](https://github.com/donnemartin/interactive-coding-challenges)."
   ]
  },
  {
   "cell_type": "markdown",
   "metadata": {},
   "source": [
    "# Challenge Notebook"
   ]
  },
  {
   "cell_type": "markdown",
   "metadata": {},
   "source": [
    "## Problem: Given a knapsack with a total weight capacity and a list of items with weight w(i) and value v(i), determine which items to select to maximize total value.\n",
    "\n",
    "* [Constraints](#Constraints)\n",
    "* [Test Cases](#Test-Cases)\n",
    "* [Algorithm](#Algorithm)\n",
    "* [Code](#Code)\n",
    "* [Unit Test](#Unit-Test)\n",
    "* [Solution Notebook](#Solution-Notebook)"
   ]
  },
  {
   "cell_type": "markdown",
   "metadata": {},
   "source": [
    "## Constraints\n",
    "\n",
    "* Can we replace the items once they are placed in the knapsack?\n",
    "    * No, this is the 0/1 knapsack problem\n",
    "* Can we split an item?\n",
    "    * No\n",
    "* Can we get an input item with weight of 0 or value of 0?\n",
    "    * No\n",
    "* Can we assume the inputs are valid?\n",
    "    * No\n",
    "* Are the inputs in sorted order by val/weight?\n",
    "    * Yes, if not we'd need to sort them first\n",
    "* Can we assume this fits memory?\n",
    "    * Yes"
   ]
  },
  {
   "cell_type": "markdown",
   "metadata": {},
   "source": [
    "## Test Cases\n",
    "\n",
    "* items or total weight is None -> Exception\n",
    "* items or total weight is 0 -> 0\n",
    "* General case\n",
    "\n",
    "<pre>\n",
    "total_weight = 8\n",
    "items\n",
    "  v | w\n",
    "  0 | 0\n",
    "a 2 | 2\n",
    "b 4 | 2\n",
    "c 6 | 4\n",
    "d 9 | 5\n",
    "\n",
    "max value = 13\n",
    "items\n",
    "  v | w\n",
    "b 4 | 2\n",
    "d 9 | 5 \n",
    "</pre>"
   ]
  },
  {
   "cell_type": "markdown",
   "metadata": {},
   "source": [
    "## Algorithm\n",
    "\n",
    "Refer to the [Solution Notebook]().  If you are stuck and need a hint, the solution notebook's algorithm discussion might be a good place to start."
   ]
  },
  {
   "cell_type": "markdown",
   "metadata": {},
   "source": [
    "    This is a classic MILP problem. Mixed integer formulation of this problem is:\n",
    "\n",
    "    max (sum of value of all included items)\n",
    "    s.t. total weight of all items must be < max_weight\n",
    "    s.t. selection of items is binary (either picked or not picked, cannot have halves or fractions)\n",
    "    \n",
    "    To solve this problem with dynamic programming, we build a table, where we tabulate the effect\n",
    "    of including an item\n",
    "    \n",
    "    \n"
   ]
  },
  {
   "cell_type": "markdown",
   "metadata": {},
   "source": [
    "## Code"
   ]
  },
  {
   "cell_type": "code",
   "execution_count": 3,
   "metadata": {
    "collapsed": true
   },
   "outputs": [],
   "source": [
    "class Item(object):\n",
    "\n",
    "    def __init__(self, label, value, weight):\n",
    "        self.label = label\n",
    "        self.value = value\n",
    "        self.weight = weight\n",
    "\n",
    "    def __repr__(self):\n",
    "        return self.label + ' v:' + str(self.value) + ' w:' + str(self.weight)"
   ]
  },
  {
   "cell_type": "code",
   "execution_count": 7,
   "metadata": {
    "collapsed": false
   },
   "outputs": [],
   "source": [
    "class Knapsack(object):\n",
    "    def fill_knapsack(self, input_items, total_weight):\n",
    "        if input_items is None or total_weight is None:\n",
    "            raise TypeError('Inputs cannot be none.')\n",
    "        if not input_items or total_weight == 0:\n",
    "            return 0\n",
    "        items = list([Item(label='',value = 0, weight = 0)] + input_items)\n",
    "        n_rows = len(input_items) + 1\n",
    "        n_cols = total_weight + 1\n",
    "        \n",
    "        T = [[0] * n_cols for _ in range(n_rows)]\n",
    "        for row in range(n_rows):\n",
    "            for col in range(n_cols):\n",
    "                if row == 0 or col == 0:\n",
    "                    T[row][col] = 0 # the null item case and the null weight case is always 0\n",
    "                # if we still got room to put the item\n",
    "                elif col >= items[row].weight:\n",
    "                    # we only pick the new item in the current row if it gives us a better value\n",
    "                    T[row][col] = max(items[row].value + T[row-1][col-items[row].weight],\n",
    "                                     T[row - 1][col])\n",
    "                else:\n",
    "                    T[row][col] = T[row-1][col] # otherwise keep the old row\n",
    "        \n",
    "        # now we have the weight table, we walk backwards to identify the items\n",
    "        results = []\n",
    "        i = n_rows - 1\n",
    "        j = n_cols - 1\n",
    "        while T[i][j] != 0:\n",
    "            if T[i-1][j] == T[i][j]:\n",
    "                i-=1\n",
    "            elif T[i][j-1] == T[i][j]:\n",
    "                j-=1\n",
    "            else:\n",
    "                results.append(items[i])\n",
    "                i -= 1\n",
    "                j -= items[i].weight\n",
    "        return results        "
   ]
  },
  {
   "cell_type": "markdown",
   "metadata": {},
   "source": [
    "# The algorithm for recursive implementation\n",
    "\n",
    "The idea, given the problem you stated (which specifies we must use recursion) is simple: for each item that you can take, see if it's better to take it or not. So there are only two possible path:\n",
    "\n",
    "you take the item\n",
    "you don't take it\n",
    "When you take the item, you remove it from your list and you decrease the capacity by the weight of the item.\n",
    "\n",
    "When you don't take the item, you remove if from you list but you do not decrease the capacity.\n",
    "\n",
    "Sometimes it helps to print what the recursive calls may look like. In this case, it could look like this:\n",
    "\n",
    "    Calling 11 8 7 6 5  with cap: 20\n",
    "     +Calling 8 7 6 5  with cap: 20\n",
    "     |  Calling 7 6 5  with cap: 20\n",
    "     |    Calling 6 5  with cap: 20\n",
    "     |      Calling 5  with cap: 20\n",
    "     |      Result: 5\n",
    "     |      Calling 5  with cap: 14\n",
    "     |      Result: 5\n",
    "     |    Result: 11\n",
    "     |    Calling 6 5  with cap: 13\n",
    "     |      Calling 5  with cap: 13\n",
    "     |      Result: 5\n",
    "     |      Calling 5  with cap: 7\n",
    "     |      Result: 5\n",
    "     |    Result: 11\n",
    "     |  Result: 18\n",
    "     |  Calling 7 6 5  with cap: 12\n",
    "     |    Calling 6 5  with cap: 12\n",
    "     |      Calling 5  with cap: 12\n",
    "     |      Result: 5\n",
    "     |      Calling 5  with cap: 6\n",
    "     |      Result: 5\n",
    "     |    Result: 11\n",
    "     |    Calling 6 5  with cap: 5\n",
    "     |      Calling 5  with cap: 5\n",
    "     |      Result: 5\n",
    "     |    Result: 5\n",
    "     |  Result: 12\n",
    "     +Result: 20\n",
    "      Calling 8 7 6 5  with cap: 9\n",
    "        Calling 7 6 5  with cap: 9\n",
    "          Calling 6 5  with cap: 9\n",
    "            Calling 5  with cap: 9\n",
    "            Result: 5\n",
    "            Calling 5  with cap: 3\n",
    "            Result: 0\n",
    "          Result: 6\n",
    "          Calling 6 5  with cap: 2\n",
    "            Calling 5  with cap: 2\n",
    "            Result: 0\n",
    "          Result: 0\n",
    "        Result: 7\n",
    "        Calling 7 6 5  with cap: 1\n",
    "          Calling 6 5  with cap: 1\n",
    "            Calling 5  with cap: 1\n",
    "            Result: 0\n",
    "          Result: 0\n",
    "        Result: 0\n",
    "      Result: 8\n",
    "    Result: 20\n",
    "\n",
    "\n",
    "I did on purpose show the call to [8 7 6 5] with a capacity of 20, which gives a result of 20 (8 + 7 + 5).\n",
    "\n",
    "Note that [8 7 6 5] is called twice: once with a capacity of 20 (because we didn't take 11) and once with a capacity of 9 (because with did take 11).\n",
    "\n",
    "So the path to the solution:\n",
    "\n",
    "11 not taken, calling [8 7 6 5] with a capacity of 20\n",
    "\n",
    "8 taken, calling [7 6 5] with a capacity of 12 (20 - 8)\n",
    "\n",
    "7 taken, calling [6 5] with a capacity of 5 (12 - 7)\n",
    "\n",
    "6 not taken, calling [5] with a capacity of 5\n",
    "\n",
    "5 taken, we're at zero.\n",
    "\n",
    "The actual method in Java can fit in very few lines of code."
   ]
  },
  {
   "cell_type": "code",
   "execution_count": 62,
   "metadata": {
    "collapsed": false
   },
   "outputs": [],
   "source": [
    "# recursive implementation\n",
    "class KnapsackTopDown(object):\n",
    "    def fill_knapsack(self, items, total_weight):\n",
    "        if items is None or total_weight is None:\n",
    "            raise TypeError('input_items or total_weight cannot be None')\n",
    "        if not items or not total_weight:\n",
    "            return 0\n",
    "        memo = {}\n",
    "        result = self._fill_knapsack(items, total_weight, memo, index=0)\n",
    "        curr_item = result.item\n",
    "        curr_weight = curr_item.weight\n",
    "        picked_items = [curr_item]\n",
    "        while curr_weight > 0:\n",
    "            total_weight -= curr_item.weight\n",
    "            curr_item = memo[(total_weight, len(items) - len(picked_items))].item\n",
    "        return result\n",
    "            \n",
    "    def _fill_knapsack(self, items, total_weight, memo, index):\n",
    "        if total_weight < 0:\n",
    "            return Result(total_weight=0, item=None)\n",
    "        if not total_weight or index >= len(items):\n",
    "            return Result(total_weight=items[index - 1].value, item=items[index - 1])\n",
    "        if (total_weight, len(items) - index - 1) in memo:\n",
    "            weight=memo[(total_weight, \n",
    "                         len(items) - index - 1)].total_weight + items[index - 1].value\n",
    "            return Result(total_weight=weight,\n",
    "                          item=items[index-1])\n",
    "        results = []\n",
    "        for i in range(index, len(items)):\n",
    "            total_weight -= items[i].weight\n",
    "            result = self._fill_knapsack(items, total_weight, memo, index=i + 1)\n",
    "            total_weight += items[i].weight\n",
    "            results.append(result)\n",
    "        results_index = 0\n",
    "        for i in range(index, len(items)):\n",
    "            memo[(total_weight, len(items) - i)] = max(results[results_index:])\n",
    "            results_index += 1\n",
    "        if index == 0:\n",
    "            result_item = memo[(total_weight, len(items) - 1)].item\n",
    "        else:\n",
    "            result_item = items[index - 1]\n",
    "        weight = max(results).total_weight + (items[index - 1].value if index > 0 else 0)\n",
    "        return Result(total_weight=weight,\n",
    "                      item=result_item)\n",
    "        "
   ]
  },
  {
   "cell_type": "code",
   "execution_count": 63,
   "metadata": {
    "collapsed": false,
    "scrolled": false
   },
   "outputs": [
    {
     "ename": "NameError",
     "evalue": "global name '_fill_knapsack' is not defined",
     "output_type": "error",
     "traceback": [
      "\u001b[1;31m---------------------------------------------------------------------------\u001b[0m",
      "\u001b[1;31mNameError\u001b[0m                                 Traceback (most recent call last)",
      "\u001b[1;32m<ipython-input-63-8e2d61b499f9>\u001b[0m in \u001b[0;36m<module>\u001b[1;34m()\u001b[0m\n\u001b[0;32m      7\u001b[0m \u001b[0mtotal_weight\u001b[0m \u001b[1;33m=\u001b[0m \u001b[1;36m8\u001b[0m\u001b[1;33m\u001b[0m\u001b[0m\n\u001b[0;32m      8\u001b[0m \u001b[0mexpected_value\u001b[0m \u001b[1;33m=\u001b[0m \u001b[1;36m13\u001b[0m\u001b[1;33m\u001b[0m\u001b[0m\n\u001b[1;32m----> 9\u001b[1;33m \u001b[0mresults\u001b[0m \u001b[1;33m=\u001b[0m \u001b[0mt\u001b[0m\u001b[1;33m.\u001b[0m\u001b[0mfill_knapsack\u001b[0m\u001b[1;33m(\u001b[0m\u001b[0mitems\u001b[0m\u001b[1;33m,\u001b[0m \u001b[0mtotal_weight\u001b[0m\u001b[1;33m)\u001b[0m\u001b[1;33m\u001b[0m\u001b[0m\n\u001b[0m\u001b[0;32m     10\u001b[0m \u001b[0mresults\u001b[0m\u001b[1;33m\u001b[0m\u001b[0m\n",
      "\u001b[1;32m<ipython-input-62-03d30cc4981b>\u001b[0m in \u001b[0;36mfill_knapsack\u001b[1;34m(self, items, total_weight)\u001b[0m\n\u001b[0;32m      7\u001b[0m             \u001b[1;32mreturn\u001b[0m \u001b[1;36m0\u001b[0m\u001b[1;33m\u001b[0m\u001b[0m\n\u001b[0;32m      8\u001b[0m         \u001b[0mmemo\u001b[0m \u001b[1;33m=\u001b[0m \u001b[1;33m{\u001b[0m\u001b[1;33m}\u001b[0m\u001b[1;33m\u001b[0m\u001b[0m\n\u001b[1;32m----> 9\u001b[1;33m         \u001b[0mresult\u001b[0m \u001b[1;33m=\u001b[0m \u001b[0m_fill_knapsack\u001b[0m\u001b[1;33m(\u001b[0m\u001b[0mitems\u001b[0m\u001b[1;33m,\u001b[0m \u001b[0mtotal_weight\u001b[0m\u001b[1;33m,\u001b[0m \u001b[0mmemo\u001b[0m\u001b[1;33m,\u001b[0m \u001b[0mindex\u001b[0m\u001b[1;33m=\u001b[0m\u001b[1;36m0\u001b[0m\u001b[1;33m)\u001b[0m\u001b[1;33m\u001b[0m\u001b[0m\n\u001b[0m\u001b[0;32m     10\u001b[0m         \u001b[0mcurr_item\u001b[0m \u001b[1;33m=\u001b[0m \u001b[0mresult\u001b[0m\u001b[1;33m.\u001b[0m\u001b[0mitem\u001b[0m\u001b[1;33m\u001b[0m\u001b[0m\n\u001b[0;32m     11\u001b[0m         \u001b[0mcurr_weight\u001b[0m \u001b[1;33m=\u001b[0m \u001b[0mcurr_item\u001b[0m\u001b[1;33m.\u001b[0m\u001b[0mweight\u001b[0m\u001b[1;33m\u001b[0m\u001b[0m\n",
      "\u001b[1;31mNameError\u001b[0m: global name '_fill_knapsack' is not defined"
     ]
    }
   ],
   "source": [
    "t = KnapsackTopDown()\n",
    "items = []\n",
    "items.append(Item(label='a', value=2, weight=2))\n",
    "items.append(Item(label='b', value=4, weight=2))\n",
    "items.append(Item(label='c', value=6, weight=4))\n",
    "items.append(Item(label='d', value=9, weight=5))\n",
    "total_weight = 8\n",
    "expected_value = 13\n",
    "results = t.fill_knapsack(items, total_weight)\n",
    "results"
   ]
  },
  {
   "cell_type": "markdown",
   "metadata": {},
   "source": [
    "## Unit Test"
   ]
  },
  {
   "cell_type": "markdown",
   "metadata": {},
   "source": [
    "**The following unit test is expected to fail until you solve the challenge.**"
   ]
  },
  {
   "cell_type": "code",
   "execution_count": 8,
   "metadata": {
    "collapsed": false
   },
   "outputs": [
    {
     "name": "stdout",
     "output_type": "stream",
     "text": [
      "Success: test_knapsack_bottom_up\n"
     ]
    },
    {
     "ename": "NameError",
     "evalue": "global name 'KnapsackTopDown' is not defined",
     "output_type": "error",
     "traceback": [
      "\u001b[1;31m---------------------------------------------------------------------------\u001b[0m",
      "\u001b[1;31mNameError\u001b[0m                                 Traceback (most recent call last)",
      "\u001b[1;32m<ipython-input-8-2cc34273f4b1>\u001b[0m in \u001b[0;36m<module>\u001b[1;34m()\u001b[0m\n\u001b[0;32m     46\u001b[0m \u001b[1;33m\u001b[0m\u001b[0m\n\u001b[0;32m     47\u001b[0m \u001b[1;32mif\u001b[0m \u001b[0m__name__\u001b[0m \u001b[1;33m==\u001b[0m \u001b[1;34m'__main__'\u001b[0m\u001b[1;33m:\u001b[0m\u001b[1;33m\u001b[0m\u001b[0m\n\u001b[1;32m---> 48\u001b[1;33m     \u001b[0mmain\u001b[0m\u001b[1;33m(\u001b[0m\u001b[1;33m)\u001b[0m\u001b[1;33m\u001b[0m\u001b[0m\n\u001b[0m",
      "\u001b[1;32m<ipython-input-8-2cc34273f4b1>\u001b[0m in \u001b[0;36mmain\u001b[1;34m()\u001b[0m\n\u001b[0;32m     42\u001b[0m     \u001b[0mtest\u001b[0m \u001b[1;33m=\u001b[0m \u001b[0mTestKnapsack\u001b[0m\u001b[1;33m(\u001b[0m\u001b[1;33m)\u001b[0m\u001b[1;33m\u001b[0m\u001b[0m\n\u001b[0;32m     43\u001b[0m     \u001b[0mtest\u001b[0m\u001b[1;33m.\u001b[0m\u001b[0mtest_knapsack_bottom_up\u001b[0m\u001b[1;33m(\u001b[0m\u001b[1;33m)\u001b[0m\u001b[1;33m\u001b[0m\u001b[0m\n\u001b[1;32m---> 44\u001b[1;33m     \u001b[0mtest\u001b[0m\u001b[1;33m.\u001b[0m\u001b[0mtest_knapsack_top_down\u001b[0m\u001b[1;33m(\u001b[0m\u001b[1;33m)\u001b[0m\u001b[1;33m\u001b[0m\u001b[0m\n\u001b[0m\u001b[0;32m     45\u001b[0m \u001b[1;33m\u001b[0m\u001b[0m\n\u001b[0;32m     46\u001b[0m \u001b[1;33m\u001b[0m\u001b[0m\n",
      "\u001b[1;32m<ipython-input-8-2cc34273f4b1>\u001b[0m in \u001b[0;36mtest_knapsack_top_down\u001b[1;34m(self)\u001b[0m\n\u001b[0;32m     26\u001b[0m \u001b[1;33m\u001b[0m\u001b[0m\n\u001b[0;32m     27\u001b[0m     \u001b[1;32mdef\u001b[0m \u001b[0mtest_knapsack_top_down\u001b[0m\u001b[1;33m(\u001b[0m\u001b[0mself\u001b[0m\u001b[1;33m)\u001b[0m\u001b[1;33m:\u001b[0m\u001b[1;33m\u001b[0m\u001b[0m\n\u001b[1;32m---> 28\u001b[1;33m         \u001b[0mknapsack\u001b[0m \u001b[1;33m=\u001b[0m \u001b[0mKnapsackTopDown\u001b[0m\u001b[1;33m(\u001b[0m\u001b[1;33m)\u001b[0m\u001b[1;33m\u001b[0m\u001b[0m\n\u001b[0m\u001b[0;32m     29\u001b[0m         \u001b[0massert_raises\u001b[0m\u001b[1;33m(\u001b[0m\u001b[0mTypeError\u001b[0m\u001b[1;33m,\u001b[0m \u001b[0mknapsack\u001b[0m\u001b[1;33m.\u001b[0m\u001b[0mfill_knapsack\u001b[0m\u001b[1;33m,\u001b[0m \u001b[0mNone\u001b[0m\u001b[1;33m,\u001b[0m \u001b[0mNone\u001b[0m\u001b[1;33m)\u001b[0m\u001b[1;33m\u001b[0m\u001b[0m\n\u001b[0;32m     30\u001b[0m         \u001b[0massert_equal\u001b[0m\u001b[1;33m(\u001b[0m\u001b[0mknapsack\u001b[0m\u001b[1;33m.\u001b[0m\u001b[0mfill_knapsack\u001b[0m\u001b[1;33m(\u001b[0m\u001b[1;36m0\u001b[0m\u001b[1;33m,\u001b[0m \u001b[1;36m0\u001b[0m\u001b[1;33m)\u001b[0m\u001b[1;33m,\u001b[0m \u001b[1;36m0\u001b[0m\u001b[1;33m)\u001b[0m\u001b[1;33m\u001b[0m\u001b[0m\n",
      "\u001b[1;31mNameError\u001b[0m: global name 'KnapsackTopDown' is not defined"
     ]
    }
   ],
   "source": [
    "# %load test_knapsack.py\n",
    "from nose.tools import assert_equal, assert_raises\n",
    "\n",
    "\n",
    "class TestKnapsack(object):\n",
    "\n",
    "    def test_knapsack_bottom_up(self):\n",
    "        knapsack = Knapsack()\n",
    "        assert_raises(TypeError, knapsack.fill_knapsack, None, None)\n",
    "        assert_equal(knapsack.fill_knapsack(0, 0), 0)\n",
    "        items = []\n",
    "        items.append(Item(label='a', value=2, weight=2))\n",
    "        items.append(Item(label='b', value=4, weight=2))\n",
    "        items.append(Item(label='c', value=6, weight=4))\n",
    "        items.append(Item(label='d', value=9, weight=5))\n",
    "        total_weight = 8\n",
    "        expected_value = 13\n",
    "        results = knapsack.fill_knapsack(items, total_weight)\n",
    "        assert_equal(results[0].label, 'd')\n",
    "        assert_equal(results[1].label, 'b')\n",
    "        total_value = 0\n",
    "        for item in results:\n",
    "            total_value += item.value\n",
    "        assert_equal(total_value, expected_value)\n",
    "        print('Success: test_knapsack_bottom_up')\n",
    "\n",
    "    def test_knapsack_top_down(self):\n",
    "        knapsack = KnapsackTopDown()\n",
    "        assert_raises(TypeError, knapsack.fill_knapsack, None, None)\n",
    "        assert_equal(knapsack.fill_knapsack(0, 0), 0)\n",
    "        items = []\n",
    "        items.append(Item(label='a', value=2, weight=2))\n",
    "        items.append(Item(label='b', value=4, weight=2))\n",
    "        items.append(Item(label='c', value=6, weight=4))\n",
    "        items.append(Item(label='d', value=9, weight=5))\n",
    "        total_weight = 8\n",
    "        expected_value = 13\n",
    "        assert_equal(knapsack.fill_knapsack(items, total_weight), expected_value)\n",
    "        print('Success: test_knapsack_top_down')\n",
    "\n",
    "def main():\n",
    "    test = TestKnapsack()\n",
    "    test.test_knapsack_bottom_up()\n",
    "    test.test_knapsack_top_down()\n",
    "\n",
    "\n",
    "if __name__ == '__main__':\n",
    "    main()"
   ]
  },
  {
   "cell_type": "markdown",
   "metadata": {},
   "source": [
    "## Solution Notebook\n",
    "\n",
    "Review the [Solution Notebook]() for a discussion on algorithms and code solutions."
   ]
  }
 ],
 "metadata": {
  "kernelspec": {
   "display_name": "Python [Root]",
   "language": "python",
   "name": "Python [Root]"
  },
  "language_info": {
   "codemirror_mode": {
    "name": "ipython",
    "version": 2
   },
   "file_extension": ".py",
   "mimetype": "text/x-python",
   "name": "python",
   "nbconvert_exporter": "python",
   "pygments_lexer": "ipython2",
   "version": "2.7.12"
  }
 },
 "nbformat": 4,
 "nbformat_minor": 0
}
