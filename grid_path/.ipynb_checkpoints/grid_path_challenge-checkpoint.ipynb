{
 "cells": [
  {
   "cell_type": "markdown",
   "metadata": {},
   "source": [
    "This notebook was prepared by [Donne Martin](https://github.com/donnemartin). Source and license info is on [GitHub](https://github.com/donnemartin/interactive-coding-challenges)."
   ]
  },
  {
   "cell_type": "markdown",
   "metadata": {},
   "source": [
    "# Challenge Notebook"
   ]
  },
  {
   "cell_type": "markdown",
   "metadata": {},
   "source": [
    "## Problem: Implement an algorithm to have a robot move from the upper left corner to the bottom right corner of a grid.\n",
    "\n",
    "* [Constraints](#Constraints)\n",
    "* [Test Cases](#Test-Cases)\n",
    "* [Algorithm](#Algorithm)\n",
    "* [Code](#Code)\n",
    "* [Unit Test](#Unit-Test)\n",
    "* [Solution Notebook](#Solution-Notebook)"
   ]
  },
  {
   "cell_type": "markdown",
   "metadata": {},
   "source": [
    "## Constraints\n",
    "\n",
    "* Are there restrictions to how the robot moves?\n",
    "    * The robot can only move right and down\n",
    "* Are some cells off limits?\n",
    "    * Yes\n",
    "* Is this a rectangular grid? i.e. the grid is not jagged?\n",
    "    * Yes\n",
    "* Will there always be a valid way for the robot to get to the bottom right?\n",
    "    * No, return None\n",
    "* Can we assume the inputs are valid?\n",
    "    * No\n",
    "* Can we assume this fits memory?\n",
    "    * Yes"
   ]
  },
  {
   "cell_type": "markdown",
   "metadata": {},
   "source": [
    "## Test Cases\n",
    "\n",
    "<pre>\n",
    "o = valid cell\n",
    "x = invalid cell\n",
    "\n",
    "   0  1  2  3\n",
    "0  o  o  o  o\n",
    "1  o  x  o  o\n",
    "2  o  o  x  o\n",
    "3  x  o  o  o\n",
    "4  o  o  x  o\n",
    "5  o  o  o  x\n",
    "6  o  x  o  x\n",
    "7  o  x  o  o\n",
    "</pre>\n",
    "\n",
    "* General case\n",
    "\n",
    "```\n",
    "expected = [(0, 0), (1, 0), (2, 0),\n",
    "            (2, 1), (3, 1), (4, 1),\n",
    "            (5, 1), (5, 2), (6, 2), \n",
    "            (7, 2), (7, 3)]\n",
    "```\n",
    "\n",
    "* No valid path: In above example, row 7 col 2 is also invalid -> None\n",
    "* None input -> None\n",
    "* Empty matrix -> None"
   ]
  },
  {
   "cell_type": "markdown",
   "metadata": {},
   "source": [
    "## Algorithm\n",
    "\n",
    "Refer to the [Solution Notebook]().  If you are stuck and need a hint, the solution notebook's algorithm discussion might be a good place to start."
   ]
  },
  {
   "cell_type": "markdown",
   "metadata": {},
   "source": [
    "## Code"
   ]
  },
  {
   "cell_type": "code",
   "execution_count": 95,
   "metadata": {
    "collapsed": false
   },
   "outputs": [],
   "source": [
    "max_rows = 8\n",
    "max_cols = 4\n",
    "matrix = [[1] * max_cols for _ in range(max_rows)]\n",
    "matrix[1][1] = 0\n",
    "matrix[2][2] = 0\n",
    "matrix[3][0] = 1\n",
    "matrix[4][2] = 0\n",
    "matrix[5][3] = 0\n",
    "matrix[6][1] = 0\n",
    "matrix[6][3] = 0\n",
    "matrix[7][1] = 0"
   ]
  },
  {
   "cell_type": "code",
   "execution_count": 96,
   "metadata": {
    "collapsed": false
   },
   "outputs": [
    {
     "data": {
      "text/plain": [
       "[[1, 1, 1, 1],\n",
       " [1, 0, 1, 1],\n",
       " [1, 1, 0, 1],\n",
       " [1, 1, 1, 1],\n",
       " [1, 1, 0, 1],\n",
       " [1, 1, 1, 0],\n",
       " [1, 0, 1, 0],\n",
       " [1, 0, 1, 1]]"
      ]
     },
     "execution_count": 96,
     "metadata": {},
     "output_type": "execute_result"
    }
   ],
   "source": [
    "matrix"
   ]
  },
  {
   "cell_type": "code",
   "execution_count": 98,
   "metadata": {
    "collapsed": false
   },
   "outputs": [
    {
     "name": "stdout",
     "output_type": "stream",
     "text": [
      "[(0, 0), (1, 0), (2, 0), (3, 0), (4, 0), (5, 0), (5, 1), (5, 2), (6, 2), (7, 2), (7, 3)]\n"
     ]
    }
   ],
   "source": [
    "grid = Grid()\n",
    "print grid.find_path(matrix)"
   ]
  },
  {
   "cell_type": "markdown",
   "metadata": {},
   "source": [
    "## Dynamic programming approach"
   ]
  },
  {
   "cell_type": "markdown",
   "metadata": {},
   "source": [
    "This is the official solution given by the challenge notebook, however, if there are multiple paths, it doesn't find all of them."
   ]
  },
  {
   "cell_type": "code",
   "execution_count": 90,
   "metadata": {
    "collapsed": false
   },
   "outputs": [],
   "source": [
    "\n",
    "class Grid(object):\n",
    "    def find_path(self, matrix):\n",
    "        if matrix is None or not matrix:\n",
    "            return None\n",
    "        cache = {}\n",
    "        path = []\n",
    "        \n",
    "        # start from the destination\n",
    "        if self._find_path(matrix, len(matrix) - 1, \n",
    "                           len(matrix[0]) - 1, cache, path):\n",
    "            return path\n",
    "        else:\n",
    "            return None\n",
    "\n",
    "    def _find_path(self, matrix, row, col, cache, path):\n",
    "        # check for boundaries and obstacles\n",
    "        if row < 0 or col < 0 or not matrix[row][col]:\n",
    "            return False\n",
    "        cell = (row, col)        \n",
    "        # if we already visited, use cached value\n",
    "        if cell in cache:\n",
    "            return cache[cell]\n",
    "        # True if there is a path or we are at destination\n",
    "        cache[cell] = (row == 0 and col == 0 or\n",
    "                       self._find_path(matrix, row, col - 1, cache, path) or\n",
    "                       self._find_path(matrix, row - 1, col, cache, path))\n",
    "        if cache[cell]:\n",
    "            path.append(cell)\n",
    "        return cache[cell]"
   ]
  },
  {
   "cell_type": "markdown",
   "metadata": {},
   "source": [
    "## Recursion Approach"
   ]
  },
  {
   "cell_type": "code",
   "execution_count": 72,
   "metadata": {
    "collapsed": true
   },
   "outputs": [],
   "source": [
    "class Grid(object):\n",
    "    def find_path(self, matrix):\n",
    "        if matrix == None:\n",
    "            return None\n",
    "        if not any(matrix):\n",
    "            return None\n",
    "\n",
    "        # valid_paths tracks the list of all possible valid paths\n",
    "        path = [(0,0)]\n",
    "        valid_paths = []\n",
    "        self._find_path(matrix, 0, 0, path, valid_paths)\n",
    "        if not any(valid_paths):\n",
    "            return None\n",
    "        if len(valid_paths) == 1:\n",
    "            return valid_paths[0]\n",
    "        return valid_paths\n",
    "    \n",
    "    def _find_path(self, matrix, row, col, path, valid_paths):\n",
    "        # if walk to the end, save the current path\n",
    "        if row == (len(matrix)-1) and col == (len(matrix[0])-1):\n",
    "            valid_paths.append(path[:])\n",
    "            return\n",
    "        # walk down\n",
    "        if self.is_valid_move(matrix, row+1, col):\n",
    "            path.append((row+1,col))\n",
    "            self._find_path(matrix, row+1, col, path, valid_paths)\n",
    "        #walk to the right\n",
    "        if self.is_valid_move(matrix, row, col+1):\n",
    "            path.append((row,col+1))\n",
    "            self._find_path(matrix, row, col+1, path, valid_paths)\n",
    "        # run into a dead-end, then we backtrack\n",
    "        del path[-1]\n",
    "        \n",
    "    # check against boundaries or invalid cells\n",
    "    def is_valid_move(self, matrix, row, col):\n",
    "        n_rows = len(matrix)\n",
    "        n_cols = len(matrix[0])\n",
    "        if row >= n_rows:\n",
    "            return False\n",
    "        if col >= n_cols:\n",
    "            return False\n",
    "        if matrix[row][col] == 0:\n",
    "            return False\n",
    "        else:\n",
    "            return True"
   ]
  },
  {
   "cell_type": "markdown",
   "metadata": {},
   "source": [
    "## Unit Test"
   ]
  },
  {
   "cell_type": "markdown",
   "metadata": {},
   "source": [
    "**The following unit test is expected to fail until you solve the challenge.**"
   ]
  },
  {
   "cell_type": "code",
   "execution_count": 88,
   "metadata": {
    "collapsed": false
   },
   "outputs": [
    {
     "name": "stdout",
     "output_type": "stream",
     "text": [
      "(7, 3)\n",
      "(7, 2)\n",
      "(6, 2)\n",
      "(5, 2)\n",
      "(5, 1)\n",
      "(5, 0)\n",
      "(4, 0)\n",
      "(4, 1)\n",
      "(4, 0)\n",
      "(3, 1)\n",
      "(2, 1)\n",
      "(2, 0)\n",
      "(1, 0)\n",
      "(0, 0)\n",
      "[(0, 0)]\n",
      "[(0, 0), (1, 0)]\n",
      "[(0, 0), (1, 0), (2, 0)]\n",
      "[(0, 0), (1, 0), (2, 0), (2, 1)]\n",
      "[(0, 0), (1, 0), (2, 0), (2, 1), (3, 1)]\n",
      "[(0, 0), (1, 0), (2, 0), (2, 1), (3, 1), (4, 1)]\n",
      "[(0, 0), (1, 0), (2, 0), (2, 1), (3, 1), (4, 1), (5, 1)]\n",
      "[(0, 0), (1, 0), (2, 0), (2, 1), (3, 1), (4, 1), (5, 1), (5, 2)]\n",
      "[(0, 0), (1, 0), (2, 0), (2, 1), (3, 1), (4, 1), (5, 1), (5, 2), (6, 2)]\n",
      "[(0, 0), (1, 0), (2, 0), (2, 1), (3, 1), (4, 1), (5, 1), (5, 2), (6, 2), (7, 2)]\n",
      "[(0, 0), (1, 0), (2, 0), (2, 1), (3, 1), (4, 1), (5, 1), (5, 2), (6, 2), (7, 2), (7, 3)]\n",
      "(7, 3)\n",
      "Success: test_grid_path\n"
     ]
    }
   ],
   "source": [
    "# %load test_grid_path.py\n",
    "from nose.tools import assert_equal\n",
    "\n",
    "\n",
    "class TestGridPath(object):\n",
    "\n",
    "    def test_grid_path(self):\n",
    "        grid = Grid()\n",
    "        assert_equal(grid.find_path(None), None)\n",
    "        assert_equal(grid.find_path([[]]), None)\n",
    "        max_rows = 8\n",
    "        max_cols = 4\n",
    "        matrix = [[1] * max_cols for _ in range(max_rows)]\n",
    "        matrix[1][1] = 0\n",
    "        matrix[2][2] = 0\n",
    "        matrix[3][0] = 0\n",
    "        matrix[4][2] = 0\n",
    "        matrix[5][3] = 0\n",
    "        matrix[6][1] = 0\n",
    "        matrix[6][3] = 0\n",
    "        matrix[7][1] = 0\n",
    "        result = grid.find_path(matrix)\n",
    "        expected = [(0, 0), (1, 0), (2, 0),\n",
    "                    (2, 1), (3, 1), (4, 1),\n",
    "                    (5, 1), (5, 2), (6, 2), \n",
    "                    (7, 2), (7, 3)]\n",
    "        assert_equal(result, expected)\n",
    "        matrix[7][2] = 0\n",
    "        result = grid.find_path(matrix)\n",
    "        assert_equal(result, None)\n",
    "        print('Success: test_grid_path')\n",
    "\n",
    "\n",
    "def main():\n",
    "    test = TestGridPath()\n",
    "    test.test_grid_path()\n",
    "\n",
    "\n",
    "if __name__ == '__main__':\n",
    "    main()"
   ]
  },
  {
   "cell_type": "markdown",
   "metadata": {},
   "source": [
    "## Solution Notebook\n",
    "\n",
    "Review the [Solution Notebook]() for a discussion on algorithms and code solutions."
   ]
  }
 ],
 "metadata": {
  "anaconda-cloud": {},
  "kernelspec": {
   "display_name": "Python [Root]",
   "language": "python",
   "name": "Python [Root]"
  },
  "language_info": {
   "codemirror_mode": {
    "name": "ipython",
    "version": 2
   },
   "file_extension": ".py",
   "mimetype": "text/x-python",
   "name": "python",
   "nbconvert_exporter": "python",
   "pygments_lexer": "ipython2",
   "version": "2.7.12"
  }
 },
 "nbformat": 4,
 "nbformat_minor": 0
}
