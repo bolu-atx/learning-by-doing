{
 "cells": [
  {
   "cell_type": "markdown",
   "metadata": {},
   "source": [
    "# Transport"
   ]
  },
  {
   "cell_type": "code",
   "execution_count": 12,
   "metadata": {
    "collapsed": true
   },
   "outputs": [],
   "source": [
    "from pyomo.environ import *"
   ]
  },
  {
   "cell_type": "code",
   "execution_count": 13,
   "metadata": {
    "collapsed": true
   },
   "outputs": [],
   "source": [
    "model = ConcreteModel()"
   ]
  },
  {
   "cell_type": "code",
   "execution_count": 14,
   "metadata": {
    "collapsed": true
   },
   "outputs": [],
   "source": [
    "## Define sets ##\n",
    "#  Sets\n",
    "#       i   canning plants   / seattle, san-diego /\n",
    "#       j   markets          / new-york, chicago, topeka / ;"
   ]
  },
  {
   "cell_type": "code",
   "execution_count": 15,
   "metadata": {
    "collapsed": true
   },
   "outputs": [],
   "source": [
    "model.i = Set(initialize=['seattle','san-diego'], doc='Canning plants')\n",
    "model.j = Set(initialize=['new-york','chicago', 'topeka'], doc='Markets')"
   ]
  },
  {
   "cell_type": "code",
   "execution_count": 16,
   "metadata": {
    "collapsed": true
   },
   "outputs": [],
   "source": [
    "## Define parameters ##\n",
    "#   Parameters\n",
    "#       a(i)  capacity of plant i in cases\n",
    "#         /    seattle     350\n",
    "#              san-diego   600  /\n",
    "#       b(j)  demand at market j in cases\n",
    "#         /    new-york    325\n",
    "#              chicago     300\n",
    "#              topeka      275  / ;"
   ]
  },
  {
   "cell_type": "code",
   "execution_count": 17,
   "metadata": {
    "collapsed": true
   },
   "outputs": [],
   "source": [
    "model.a = Param(model.i, initialize={'seattle':350,'san-diego':600}, doc='Capacity of plant i in cases')\n",
    "model.b = Param(model.j, initialize={'new-york':325,'chicago':300,'topeka':275}, doc='Demand at market j in cases')"
   ]
  },
  {
   "cell_type": "code",
   "execution_count": 18,
   "metadata": {
    "collapsed": true
   },
   "outputs": [],
   "source": [
    "#  Table d(i,j)  distance in thousands of miles\n",
    "#                    new-york       chicago      topeka\n",
    "#      seattle          2.5           1.7          1.8\n",
    "#      san-diego        2.5           1.8          1.4  ;\n",
    "dtab = {\n",
    "    ('seattle',  'new-york') : 2.5,\n",
    "    ('seattle',  'chicago')  : 1.7,\n",
    "    ('seattle',  'topeka')   : 1.8,\n",
    "    ('san-diego','new-york') : 2.5,\n",
    "    ('san-diego','chicago')  : 1.8,\n",
    "    ('san-diego','topeka')   : 1.4,\n",
    "    }\n",
    "\n",
    "model.d = Param(model.i, model.j, initialize=dtab, doc='Distance in thousands of miles')"
   ]
  },
  {
   "cell_type": "code",
   "execution_count": 19,
   "metadata": {
    "collapsed": true
   },
   "outputs": [],
   "source": [
    "#  Scalar f  freight in dollars per case per thousand miles  /90/ ;\n",
    "model.f = Param(initialize=90, doc='Freight in dollars per case per thousand miles')"
   ]
  },
  {
   "cell_type": "code",
   "execution_count": 20,
   "metadata": {
    "collapsed": false
   },
   "outputs": [],
   "source": [
    "#  Parameter c(i,j)  transport cost in thousands of dollars per case ;\n",
    "#            c(i,j) = f * d(i,j) / 1000 ;\n",
    "def c_init(model, i, j):\n",
    "    return model.f * model.d[i,j] / 1000\n",
    "model.c = Param(model.i, model.j, initialize=c_init, doc='Transport cost in thousands of dollar per case')"
   ]
  },
  {
   "cell_type": "code",
   "execution_count": 22,
   "metadata": {
    "collapsed": false
   },
   "outputs": [],
   "source": [
    "## Define variables ##\n",
    "#  Variables\n",
    "#       x(i,j)  shipment quantities in cases\n",
    "#       z       total transportation costs in thousands of dollars ;\n",
    "#  Positive Variable x ;\n",
    "model.x = Var(model.i, model.j, bounds=(0.0,None), doc='Shipment quantities in case')"
   ]
  },
  {
   "cell_type": "code",
   "execution_count": 23,
   "metadata": {
    "collapsed": true
   },
   "outputs": [],
   "source": [
    "## Define contrains ##\n",
    "# supply(i)   observe supply limit at plant i\n",
    "# supply(i) .. sum (j, x(i,j)) =l= a(i)\n",
    "def supply_rule(model, i):\n",
    "    return sum(model.x[i,j] for j in model.j) <= model.a[i]\n",
    "model.supply = Constraint(model.i, rule=supply_rule, doc='Observe supply limit at plant i')\n",
    "# demand(j)   satisfy demand at market j ;  \n",
    "# demand(j) .. sum(i, x(i,j)) =g= b(j);\n",
    "def demand_rule(model, j):\n",
    "    return sum(model.x[i,j] for i in model.i) >= model.b[j]  \n",
    "model.demand = Constraint(model.j, rule=demand_rule, doc='Satisfy demand at market j')\n",
    " \n",
    "## Define Objective and solve ##\n",
    "#  cost        define objective function\n",
    "#  cost ..        z  =e=  sum((i,j), c(i,j)*x(i,j)) ;\n",
    "#  Model transport /all/ ;\n",
    "#  Solve transport using lp minimizing z ;\n",
    "def objective_rule(model):\n",
    "    return sum(model.c[i,j]*model.x[i,j] for i in model.i for j in model.j)\n",
    "\n",
    "model.objective = Objective(rule=objective_rule, sense=minimize, doc='Define objective function')\n",
    " "
   ]
  },
  {
   "cell_type": "code",
   "execution_count": 24,
   "metadata": {
    "collapsed": true
   },
   "outputs": [],
   "source": [
    "## Display of the output ##\n",
    "# Display x.l, x.m ;\n",
    "def pyomo_postprocess(options=None, instance=None, results=None):\n",
    "    model.x.display()\n",
    " "
   ]
  },
  {
   "cell_type": "code",
   "execution_count": 25,
   "metadata": {
    "collapsed": false
   },
   "outputs": [
    {
     "name": "stdout",
     "output_type": "stream",
     "text": [
      "# ==========================================================\n",
      "# = Solver Results                                         =\n",
      "# ==========================================================\n",
      "# ----------------------------------------------------------\n",
      "#   Problem Information\n",
      "# ----------------------------------------------------------\n",
      "Problem: \n",
      "- Name: unknown\n",
      "  Lower bound: 153.675\n",
      "  Upper bound: 153.675\n",
      "  Number of objectives: 1\n",
      "  Number of constraints: 6\n",
      "  Number of variables: 7\n",
      "  Number of nonzeros: 13\n",
      "  Sense: minimize\n",
      "# ----------------------------------------------------------\n",
      "#   Solver Information\n",
      "# ----------------------------------------------------------\n",
      "Solver: \n",
      "- Status: ok\n",
      "  Termination condition: optimal\n",
      "  Statistics: \n",
      "    Branch and bound: \n",
      "      Number of bounded subproblems: 0\n",
      "      Number of created subproblems: 0\n",
      "  Error rc: 0\n",
      "  Time: 0.00641512870789\n",
      "# ----------------------------------------------------------\n",
      "#   Solution Information\n",
      "# ----------------------------------------------------------\n",
      "Solution: \n",
      "- number of solutions: 0\n",
      "  number of solutions displayed: 0\n",
      "\n",
      "Displaying Solution\n",
      "------------------------------------------------------------\n",
      "x : Shipment quantities in case\n",
      "    Size=6, Index=x_index\n",
      "    Key                       : Lower : Value : Upper : Fixed : Stale : Domain\n",
      "     ('san-diego', 'chicago') :   0.0 :   0.0 :  None : False : False :  Reals\n",
      "    ('san-diego', 'new-york') :   0.0 : 325.0 :  None : False : False :  Reals\n",
      "      ('san-diego', 'topeka') :   0.0 : 275.0 :  None : False : False :  Reals\n",
      "       ('seattle', 'chicago') :   0.0 : 300.0 :  None : False : False :  Reals\n",
      "      ('seattle', 'new-york') :   0.0 :   0.0 :  None : False : False :  Reals\n",
      "        ('seattle', 'topeka') :   0.0 :   0.0 :  None : False : False :  Reals\n"
     ]
    }
   ],
   "source": [
    "from pyomo.opt import SolverFactory\n",
    "import pyomo.environ\n",
    "opt = SolverFactory(\"glpk\")\n",
    "results = opt.solve(model)\n",
    "#sends results to stdout\n",
    "results.write()\n",
    "print(\"\\nDisplaying Solution\\n\" + '-'*60)\n",
    "pyomo_postprocess(None, model, results)"
   ]
  }
 ],
 "metadata": {
  "kernelspec": {
   "display_name": "Python 2",
   "language": "python",
   "name": "python2"
  },
  "language_info": {
   "codemirror_mode": {
    "name": "ipython",
    "version": 2
   },
   "file_extension": ".py",
   "mimetype": "text/x-python",
   "name": "python",
   "nbconvert_exporter": "python",
   "pygments_lexer": "ipython2",
   "version": "2.7.13"
  }
 },
 "nbformat": 4,
 "nbformat_minor": 0
}
