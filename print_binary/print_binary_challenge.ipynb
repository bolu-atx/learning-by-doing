{
 "cells": [
  {
   "cell_type": "markdown",
   "metadata": {},
   "source": [
    "This notebook was prepared by [Donne Martin](https://github.com/donnemartin). Source and license info is on [GitHub](https://github.com/donnemartin/interactive-coding-challenges)."
   ]
  },
  {
   "cell_type": "markdown",
   "metadata": {},
   "source": [
    "# Challenge Notebook"
   ]
  },
  {
   "cell_type": "markdown",
   "metadata": {},
   "source": [
    "## Problem: Given a real number between 0 and 1, print the binary representation.  If the length of the representation is > 32, return 'ERROR'.\n",
    "\n",
    "* [Constraints](#Constraints)\n",
    "* [Test Cases](#Test-Cases)\n",
    "* [Algorithm](#Algorithm)\n",
    "* [Code](#Code)\n",
    "* [Unit Test](#Unit-Test)\n",
    "* [Solution Notebook](#Solution-Notebook)"
   ]
  },
  {
   "cell_type": "markdown",
   "metadata": {},
   "source": [
    "## Constraints\n",
    "\n",
    "* Is the input a float?\n",
    "    * Yes\n",
    "* Is the output a string?\n",
    "    * Yes\n",
    "* Is 0 and 1 inclusive?\n",
    "    * No\n",
    "* Does the result include a trailing zero and decimal point?\n",
    "    * Yes\n",
    "* Is the leading zero and decimal point counted in the 32 char limit?\n",
    "    * Yes\n",
    "* Can we assume the inputs are valid?\n",
    "    * No\n",
    "* Can we assume this fits memory?\n",
    "    * Yes"
   ]
  },
  {
   "cell_type": "markdown",
   "metadata": {},
   "source": [
    "## Test Cases\n",
    "\n",
    "* None -> 'ERROR'\n",
    "* Out of bounds (0, 1) -> 'ERROR'\n",
    "* General case\n",
    "    * 0.625 -> 0.101\n",
    "    * 0.987654321 -> 'ERROR'"
   ]
  },
  {
   "cell_type": "markdown",
   "metadata": {},
   "source": [
    "## Algorithm\n",
    "\n",
    "Refer to the [Solution Notebook]().  If you are stuck and need a hint, the solution notebook's algorithm discussion might be a good place to start."
   ]
  },
  {
   "cell_type": "markdown",
   "metadata": {},
   "source": [
    "## Code"
   ]
  },
  {
   "cell_type": "code",
   "execution_count": 30,
   "metadata": {
    "collapsed": false
   },
   "outputs": [],
   "source": [
    "t = Bits()\n",
    "a = t.print_binary(0.987654321)"
   ]
  },
  {
   "cell_type": "code",
   "execution_count": 31,
   "metadata": {
    "collapsed": false
   },
   "outputs": [
    {
     "data": {
      "text/plain": [
       "'0.1011'"
      ]
     },
     "execution_count": 31,
     "metadata": {},
     "output_type": "execute_result"
    }
   ],
   "source": [
    "t.print_binary(0.6875)"
   ]
  },
  {
   "cell_type": "code",
   "execution_count": 29,
   "metadata": {
    "collapsed": false
   },
   "outputs": [],
   "source": [
    "class Bits(object):\n",
    "\n",
    "    def print_binary(self, num):\n",
    "        if num is None:\n",
    "            return \"ERROR\"\n",
    "        if num >= 1 or num <= 0:\n",
    "            return \"ERROR\"\n",
    "        \n",
    "        max_bits = 32\n",
    "        \n",
    "        bi_num = []\n",
    "        i = 0\n",
    "        while num <> 0:\n",
    "            num = num * 2\n",
    "            if num >= 1:\n",
    "                bi_num.append(\"1\")\n",
    "                num -= 1\n",
    "            else:\n",
    "                bi_num.append(\"0\")\n",
    "            i += 1\n",
    "            if i >= max_bits:\n",
    "                return \"ERROR\"\n",
    "        return \"0.\" + \"\".join(bi_num)    \n",
    "        "
   ]
  },
  {
   "cell_type": "markdown",
   "metadata": {},
   "source": [
    "## Unit Test"
   ]
  },
  {
   "cell_type": "markdown",
   "metadata": {},
   "source": [
    "**The following unit test is expected to fail until you solve the challenge.**"
   ]
  },
  {
   "cell_type": "code",
   "execution_count": 32,
   "metadata": {
    "collapsed": false
   },
   "outputs": [
    {
     "name": "stdout",
     "output_type": "stream",
     "text": [
      "Success: test_print_binary\n"
     ]
    }
   ],
   "source": [
    "# %load test_print_binary.py\n",
    "from nose.tools import assert_equal\n",
    "\n",
    "\n",
    "class TestBits(object):\n",
    "\n",
    "    def test_print_binary(self):\n",
    "        bit = Bits()\n",
    "        assert_equal(bit.print_binary(None), 'ERROR')\n",
    "        assert_equal(bit.print_binary(0), 'ERROR')\n",
    "        assert_equal(bit.print_binary(1), 'ERROR')\n",
    "        num = 0.625\n",
    "        expected = '0.101'\n",
    "        assert_equal(bit.print_binary(num), expected)\n",
    "        num = 0.987654321\n",
    "        assert_equal(bit.print_binary(num), 'ERROR')\n",
    "        print('Success: test_print_binary')\n",
    "\n",
    "\n",
    "def main():\n",
    "    test = TestBits()\n",
    "    test.test_print_binary()\n",
    "\n",
    "\n",
    "if __name__ == '__main__':\n",
    "    main()"
   ]
  },
  {
   "cell_type": "markdown",
   "metadata": {},
   "source": [
    "## Solution Notebook\n",
    "\n",
    "Review the [Solution Notebook]() for a discussion on algorithms and code solutions."
   ]
  }
 ],
 "metadata": {
  "anaconda-cloud": {},
  "kernelspec": {
   "display_name": "Python [Root]",
   "language": "python",
   "name": "Python [Root]"
  },
  "language_info": {
   "codemirror_mode": {
    "name": "ipython",
    "version": 2
   },
   "file_extension": ".py",
   "mimetype": "text/x-python",
   "name": "python",
   "nbconvert_exporter": "python",
   "pygments_lexer": "ipython2",
   "version": "2.7.12"
  }
 },
 "nbformat": 4,
 "nbformat_minor": 0
}
