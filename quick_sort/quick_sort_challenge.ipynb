{
 "cells": [
  {
   "cell_type": "markdown",
   "metadata": {},
   "source": [
    "This notebook was prepared by [Donne Martin](http://donnemartin.com). Source and license info is on [GitHub](https://github.com/donnemartin/interactive-coding-challenges)."
   ]
  },
  {
   "cell_type": "markdown",
   "metadata": {},
   "source": [
    "# Challenge Notebook"
   ]
  },
  {
   "cell_type": "markdown",
   "metadata": {},
   "source": [
    "## Problem: Implement quick sort.\n",
    "\n",
    "* [Constraints](#Constraints)\n",
    "* [Test Cases](#Test-Cases)\n",
    "* [Algorithm](#Algorithm)\n",
    "* [Code](#Code)\n",
    "* [Unit Test](#Unit-Test)\n",
    "* [Solution Notebook](#Solution-Notebook)"
   ]
  },
  {
   "cell_type": "markdown",
   "metadata": {},
   "source": [
    "## Constraints\n",
    "\n",
    "* Is a naive solution sufficient (ie not in-place)?\n",
    "    * Yes\n",
    "* Are duplicates allowed?\n",
    "    * Yes\n",
    "* Can we assume the input is valid?\n",
    "    * No\n",
    "* Can we assume this fits memory?\n",
    "    * Yes"
   ]
  },
  {
   "cell_type": "markdown",
   "metadata": {},
   "source": [
    "## Test Cases\n",
    "\n",
    "* None -> Exception\n",
    "* Empty input -> []\n",
    "* One element -> [element]\n",
    "* Two or more elements"
   ]
  },
  {
   "cell_type": "markdown",
   "metadata": {},
   "source": [
    "## Algorithm\n",
    "\n",
    "Refer to the [Solution Notebook](http://nbviewer.ipython.org/github/donnemartin/interactive-coding-challenges/blob/master/sorting_searching/quick_sort/quick_sort_solution.ipynb).  If you are stuck and need a hint, the solution notebook's algorithm discussion might be a good place to start."
   ]
  },
  {
   "cell_type": "markdown",
   "metadata": {},
   "source": [
    "### Pseudocode"
   ]
  },
  {
   "cell_type": "markdown",
   "metadata": {},
   "source": [
    "Quick-sort(data)\n",
    "    \n",
    "    algorithm quicksort(A, lo, hi) is\n",
    "        if lo < hi then\n",
    "            p := partition(A, lo, hi)\n",
    "            quicksort(A, lo, p – 1)\n",
    "            quicksort(A, p + 1, hi)\n",
    "\n",
    "    algorithm partition(A, lo, hi) is\n",
    "        pivot := A[hi]\n",
    "        i := lo - 1    \n",
    "        for j := lo to hi - 1 do\n",
    "            if A[j] ≤ pivot then\n",
    "                i := i + 1\n",
    "                swap A[i] with A[j]\n",
    "        swap A[i + 1] with A[hi]\n",
    "        return i + 1"
   ]
  },
  {
   "cell_type": "markdown",
   "metadata": {},
   "source": [
    "## Code"
   ]
  },
  {
   "cell_type": "code",
   "execution_count": 24,
   "metadata": {
    "collapsed": false
   },
   "outputs": [
    {
     "data": {
      "text/plain": [
       "2"
      ]
     },
     "execution_count": 24,
     "metadata": {},
     "output_type": "execute_result"
    }
   ],
   "source": [
    "test = QuickSort()\n",
    "data = [8,1,6,4,5,3]\n",
    "test.partition(data,0,4)"
   ]
  },
  {
   "cell_type": "code",
   "execution_count": 25,
   "metadata": {
    "collapsed": false
   },
   "outputs": [
    {
     "name": "stdout",
     "output_type": "stream",
     "text": [
      "[1, 4, 5, 8, 6, 3]\n",
      "data: [1, 4, 5, 8, 6, 3], l: 0, r:5\n",
      "data: [1, 3, 5, 8, 6, 4], l: 0, r:5, m: 1\n",
      "data: [1, 3, 5, 8, 6, 4], l: 2, r:5\n",
      "data: [1, 3, 4, 8, 6, 5], l: 2, r:5, m: 2\n",
      "data: [1, 3, 4, 8, 6, 5], l: 3, r:5\n",
      "data: [1, 3, 4, 5, 6, 8], l: 3, r:5, m: 3\n",
      "data: [1, 3, 4, 5, 6, 8], l: 4, r:5\n",
      "data: [1, 3, 4, 5, 6, 8], l: 4, r:5, m: 5\n"
     ]
    },
    {
     "data": {
      "text/plain": [
       "[1, 3, 4, 5, 6, 8]"
      ]
     },
     "execution_count": 25,
     "metadata": {},
     "output_type": "execute_result"
    }
   ],
   "source": [
    "test.sort(data)"
   ]
  },
  {
   "cell_type": "code",
   "execution_count": 22,
   "metadata": {
    "collapsed": false
   },
   "outputs": [],
   "source": [
    "class QuickSort(object):\n",
    "\n",
    "    def sort(self, data):\n",
    "        print data\n",
    "        if data == None:\n",
    "            raise TypeError('Input cannot be None.')\n",
    "        elif len(data) == 0:\n",
    "            return []\n",
    "        else:\n",
    "            self.quick_sort(data, 0, len(data)-1)\n",
    "            return data\n",
    "    # swap positions m and n\n",
    "    def swap(self, data, m, n):\n",
    "        temp = data[m]\n",
    "        data[m] = data[n]\n",
    "        data[n] = temp\n",
    "        return\n",
    "    \n",
    "    def partition(self, data, l, r):\n",
    "        pivot = data[r]\n",
    "        i = l - 1\n",
    "        for j in xrange(l, r):\n",
    "            if data[j] <= pivot:\n",
    "                i += 1\n",
    "                self.swap(data, i, j)\n",
    "        self.swap(data, i+1, r)\n",
    "        return i+1\n",
    "    \n",
    "    def quick_sort(self, data, l, r):\n",
    "        if (l < r):\n",
    "            print \"data: {0}, l: {1}, r:{2}\".format(data,l,r)\n",
    "            m = self.partition(data, l, r)\n",
    "            print \"data: {0}, l: {1}, r:{2}, m: {3}\".format(data,l,r,m)\n",
    "            self.quick_sort(data, l, m-1)\n",
    "            self.quick_sort(data, m+1, r)\n",
    "        "
   ]
  },
  {
   "cell_type": "markdown",
   "metadata": {},
   "source": [
    "## Unit Test\n",
    "\n",
    "\n",
    "\n",
    "**The following unit test is expected to fail until you solve the challenge.**"
   ]
  },
  {
   "cell_type": "code",
   "execution_count": 26,
   "metadata": {
    "collapsed": false
   },
   "outputs": [
    {
     "name": "stdout",
     "output_type": "stream",
     "text": [
      "None input\n",
      "None\n",
      "Empty input\n",
      "[]\n",
      "One element\n",
      "[5]\n",
      "Two or more elements\n",
      "[5, 1, 7, 2, 6, -3, 5, 7, -1]\n",
      "data: [5, 1, 7, 2, 6, -3, 5, 7, -1], l: 0, r:8\n",
      "data: [-3, -1, 7, 2, 6, 5, 5, 7, 1], l: 0, r:8, m: 1\n",
      "data: [-3, -1, 7, 2, 6, 5, 5, 7, 1], l: 2, r:8\n",
      "data: [-3, -1, 1, 2, 6, 5, 5, 7, 7], l: 2, r:8, m: 2\n",
      "data: [-3, -1, 1, 2, 6, 5, 5, 7, 7], l: 3, r:8\n",
      "data: [-3, -1, 1, 2, 6, 5, 5, 7, 7], l: 3, r:8, m: 8\n",
      "data: [-3, -1, 1, 2, 6, 5, 5, 7, 7], l: 3, r:7\n",
      "data: [-3, -1, 1, 2, 6, 5, 5, 7, 7], l: 3, r:7, m: 7\n",
      "data: [-3, -1, 1, 2, 6, 5, 5, 7, 7], l: 3, r:6\n",
      "data: [-3, -1, 1, 2, 5, 5, 6, 7, 7], l: 3, r:6, m: 5\n",
      "data: [-3, -1, 1, 2, 5, 5, 6, 7, 7], l: 3, r:4\n",
      "data: [-3, -1, 1, 2, 5, 5, 6, 7, 7], l: 3, r:4, m: 4\n",
      "Success: test_quick_sort\n",
      "\n"
     ]
    }
   ],
   "source": [
    "# %load test_quick_sort.py\n",
    "from nose.tools import assert_equal, assert_raises\n",
    "\n",
    "\n",
    "class TestQuickSort(object):\n",
    "\n",
    "    def test_quick_sort(self):\n",
    "        quick_sort = QuickSort()\n",
    "\n",
    "        print('None input')\n",
    "        assert_raises(TypeError, quick_sort.sort, None)\n",
    "\n",
    "        print('Empty input')\n",
    "        assert_equal(quick_sort.sort([]), [])\n",
    "\n",
    "        print('One element')\n",
    "        assert_equal(quick_sort.sort([5]), [5])\n",
    "\n",
    "        print('Two or more elements')\n",
    "        data = [5, 1, 7, 2, 6, -3, 5, 7, -1]\n",
    "        assert_equal(quick_sort.sort(data), sorted(data))\n",
    "\n",
    "        print('Success: test_quick_sort\\n')\n",
    "\n",
    "\n",
    "def main():\n",
    "    test = TestQuickSort()\n",
    "    test.test_quick_sort()\n",
    "\n",
    "\n",
    "if __name__ == '__main__':\n",
    "    main()"
   ]
  },
  {
   "cell_type": "markdown",
   "metadata": {},
   "source": [
    "## Solution Notebook\n",
    "\n",
    "Review the [Solution Notebook](http://nbviewer.ipython.org/github/donnemartin/interactive-coding-challenges/blob/master/sorting_searching/quick_sort/quick_sort_solution.ipynb) for a discussion on algorithms and code solutions."
   ]
  }
 ],
 "metadata": {
  "kernelspec": {
   "display_name": "Python [Root]",
   "language": "python",
   "name": "Python [Root]"
  },
  "language_info": {
   "codemirror_mode": {
    "name": "ipython",
    "version": 2
   },
   "file_extension": ".py",
   "mimetype": "text/x-python",
   "name": "python",
   "nbconvert_exporter": "python",
   "pygments_lexer": "ipython2",
   "version": "2.7.12"
  }
 },
 "nbformat": 4,
 "nbformat_minor": 0
}
