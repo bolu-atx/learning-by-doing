{
 "cells": [
  {
   "cell_type": "markdown",
   "metadata": {},
   "source": [
    "This notebook was prepared by [Donne Martin](http://donnemartin.com). Source and license info is on [GitHub](https://github.com/donnemartin/interactive-coding-challenges)."
   ]
  },
  {
   "cell_type": "markdown",
   "metadata": {},
   "source": [
    "# Challenge Notebook"
   ]
  },
  {
   "cell_type": "markdown",
   "metadata": {},
   "source": [
    "## Problem: Implement merge sort.\n",
    "\n",
    "* [Constraints](#Constraints)\n",
    "* [Test Cases](#Test-Cases)\n",
    "* [Algorithm](#Algorithm)\n",
    "* [Code](#Code)\n",
    "* [Unit Test](#Unit-Test)\n",
    "* [Solution Notebook](#Solution-Notebook)"
   ]
  },
  {
   "cell_type": "markdown",
   "metadata": {},
   "source": [
    "## Constraints\n",
    "\n",
    "* Is a naive solution sufficient?\n",
    "    * Yes\n",
    "* Are duplicates allowed?\n",
    "    * Yes\n",
    "* Can we assume the input is valid?\n",
    "    * No\n",
    "* Can we assume this fits memory?\n",
    "    * Yes"
   ]
  },
  {
   "cell_type": "markdown",
   "metadata": {},
   "source": [
    "## Test Cases\n",
    "\n",
    "* None -> Exception\n",
    "* Empty input -> []\n",
    "* One element -> [element]\n",
    "* Two or more elements\n",
    "* Left and right subarrays of different lengths"
   ]
  },
  {
   "cell_type": "markdown",
   "metadata": {},
   "source": [
    "## Algorithm\n",
    "\n",
    "Refer to the [Solution Notebook](http://nbviewer.ipython.org/github/donnemartin/interactive-coding-challenges/blob/master/sorting_searching/merge_sort/merge_sort_solution.ipynb).  If you are stuck and need a hint, the solution notebook's algorithm discussion might be a good place to start."
   ]
  },
  {
   "cell_type": "markdown",
   "metadata": {},
   "source": [
    "## Prework"
   ]
  },
  {
   "cell_type": "markdown",
   "metadata": {},
   "source": [
    "Merge Sort is a Divide and Conquer algorithm. It divides input array in two halves, calls itself for the two halves and then merges the two sorted halves. The merge() function is used for merging two halves. The merge(arr, l, m, r) is key process that assumes that arr[l..m] and arr[m+1..r] are sorted and merges the two sorted sub-arrays into one. \n",
    "### Pseudocode\n",
    "\n",
    "```\n",
    "mergeSort(arr[], l,  r)\n",
    "    If r > l\n",
    "     1. Find the middle point to divide the array into two halves:  \n",
    "             middle m = (l+r)/2\n",
    "     2. Call mergeSort for first half:   \n",
    "             Call mergeSort(arr, l, m)\n",
    "     3. Call mergeSort for second half:\n",
    "             Call mergeSort(arr, m+1, r)\n",
    "     4. Merge the two halves sorted in step 2 and 3:\n",
    "             Call merge(arr, l, m, r)\n",
    "```"
   ]
  },
  {
   "cell_type": "markdown",
   "metadata": {},
   "source": [
    "## Code"
   ]
  },
  {
   "cell_type": "code",
   "execution_count": 8,
   "metadata": {
    "collapsed": false
   },
   "outputs": [],
   "source": [
    "# Bo Lu, July 13 2017\n",
    "class MergeSort(object):\n",
    "\n",
    "    def sort(self, data):\n",
    "        if data == None:\n",
    "            raise TypeError\n",
    "        # special case\n",
    "        elif len(data) <= 1:\n",
    "            return data\n",
    "        else:\n",
    "            self.merge_sort(data, 0, len(data))\n",
    "            print \"data: {0}  sorting complete.\".format(data)\n",
    "            return data\n",
    "        \n",
    "                    \n",
    "    def merge_sort(self, data, l, r):\n",
    "        # the Python indexing is weird, i.e. data[0:0] would return None, data[0:1] would \n",
    "        # return the first element. So r - l > 1 means we would have at least 1 element to sort\n",
    "        if r - l > 1:\n",
    "            m = (l+r)/2\n",
    "            self.merge_sort(data, l, m)\n",
    "            self.merge_sort(data, m, r)\n",
    "            self.merge(data, l, m, r)\n",
    "        \n",
    "    # merge two subarrays of arr\n",
    "    def merge(self, data, l, m, r):\n",
    "        print \"data: {3}  l: {0}, m: {1}, r: {2}\".format(l,m,r,data)\n",
    "        \n",
    "        # prevent edge cases\n",
    "        if l < m:\n",
    "            L = data[l:m]\n",
    "        if m < r:\n",
    "            R = data[m:r]\n",
    "            \n",
    "        i = 0 # pointer for L\n",
    "        j = 0 # pointer for R\n",
    "        k = l # pointer for merged subarray\n",
    "        \n",
    "        # smaller items go first\n",
    "        while i < len(L) and j < len(R):\n",
    "            if L[i] <= R[j]:\n",
    "                data[k] = L[i]\n",
    "                i += 1\n",
    "            else:\n",
    "                data[k] = R[j]\n",
    "                j += 1\n",
    "            k+=1\n",
    "        # merge the rest (if L and R are un-even)\n",
    "        while i < len(L):\n",
    "            data[k] = L[i]\n",
    "            i+=1\n",
    "            k+=1\n",
    "        while j < len(R):\n",
    "            data[k] = R[j]\n",
    "            j += 1\n",
    "            k += 1\n",
    "        "
   ]
  },
  {
   "cell_type": "markdown",
   "metadata": {},
   "source": [
    "## Unit Test\n",
    "\n",
    "\n",
    "\n",
    "**The following unit test is expected to fail until you solve the challenge.**"
   ]
  },
  {
   "cell_type": "code",
   "execution_count": 9,
   "metadata": {
    "collapsed": false,
    "scrolled": false
   },
   "outputs": [
    {
     "name": "stdout",
     "output_type": "stream",
     "text": [
      "None input\n",
      "Empty input\n",
      "One element\n",
      "Two or more elements\n",
      "data: [5, 1, 7, 2, 6, -3, 5, 7, -1]  l: 0, m: 1, r: 2\n",
      "data: [1, 5, 7, 2, 6, -3, 5, 7, -1]  l: 2, m: 3, r: 4\n",
      "data: [1, 5, 2, 7, 6, -3, 5, 7, -1]  l: 0, m: 2, r: 4\n",
      "data: [1, 2, 5, 7, 6, -3, 5, 7, -1]  l: 4, m: 5, r: 6\n",
      "data: [1, 2, 5, 7, -3, 6, 5, 7, -1]  l: 7, m: 8, r: 9\n",
      "data: [1, 2, 5, 7, -3, 6, 5, -1, 7]  l: 6, m: 7, r: 9\n",
      "data: [1, 2, 5, 7, -3, 6, -1, 5, 7]  l: 4, m: 6, r: 9\n",
      "data: [1, 2, 5, 7, -3, -1, 5, 6, 7]  l: 0, m: 4, r: 9\n",
      "data: [-3, -1, 1, 2, 5, 5, 6, 7, 7]  sorting complete.\n",
      "Success: test_merge_sort\n"
     ]
    }
   ],
   "source": [
    "# %load test_merge_sort.py\n",
    "from nose.tools import assert_equal, assert_raises\n",
    "\n",
    "\n",
    "class TestMergeSort(object):\n",
    "\n",
    "    def test_merge_sort(self):\n",
    "        merge_sort = MergeSort()\n",
    "\n",
    "        print('None input')\n",
    "        assert_raises(TypeError, merge_sort.sort, None)\n",
    "\n",
    "        print('Empty input')\n",
    "        assert_equal(merge_sort.sort([]), [])\n",
    "\n",
    "        print('One element')\n",
    "        assert_equal(merge_sort.sort([5]), [5])\n",
    "\n",
    "        print('Two or more elements')\n",
    "        data = [5, 1, 7, 2, 6, -3, 5, 7, -1]\n",
    "        assert_equal(merge_sort.sort(data), sorted(data))\n",
    "\n",
    "        print('Success: test_merge_sort')\n",
    "\n",
    "\n",
    "def main():\n",
    "    test = TestMergeSort()\n",
    "    test.test_merge_sort()\n",
    "\n",
    "\n",
    "if __name__ == '__main__':\n",
    "    main()"
   ]
  },
  {
   "cell_type": "markdown",
   "metadata": {},
   "source": [
    "## Solution Notebook\n",
    "\n",
    "Review the [Solution Notebook](http://nbviewer.ipython.org/github/donnemartin/interactive-coding-challenges/blob/master/sorting_searching/merge_sort/merge_sort_solution.ipynb) for a discussion on algorithms and code solutions."
   ]
  }
 ],
 "metadata": {
  "kernelspec": {
   "display_name": "Python [Root]",
   "language": "python",
   "name": "Python [Root]"
  },
  "language_info": {
   "codemirror_mode": {
    "name": "ipython",
    "version": 2
   },
   "file_extension": ".py",
   "mimetype": "text/x-python",
   "name": "python",
   "nbconvert_exporter": "python",
   "pygments_lexer": "ipython2",
   "version": "2.7.12"
  }
 },
 "nbformat": 4,
 "nbformat_minor": 0
}
