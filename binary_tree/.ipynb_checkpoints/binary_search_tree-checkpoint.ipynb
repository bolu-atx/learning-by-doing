{
 "cells": [
  {
   "cell_type": "code",
   "execution_count": 52,
   "metadata": {
    "collapsed": true
   },
   "outputs": [],
   "source": [
    "# Simple Search Tree Implementation in Python"
   ]
  },
  {
   "cell_type": "code",
   "execution_count": 44,
   "metadata": {
    "collapsed": true
   },
   "outputs": [],
   "source": [
    "class Node:\n",
    "    def __init__(self,val):\n",
    "        self.l = None\n",
    "        self.r = None\n",
    "        self.v = val\n",
    "    \n",
    "class Tree:\n",
    "    def __init__(self):\n",
    "        self.root = None\n",
    "    def getRoot(self):\n",
    "        return self.root\n",
    "    # add a new node to the tree\n",
    "    def add(self,val):\n",
    "        if self.root == None:\n",
    "            self.root = Node(val)\n",
    "        else:\n",
    "            self._add(val, self.root)\n",
    "    \n",
    "    def _add(self,val,node):\n",
    "        # check should we add it to the left or the right recursively\n",
    "        if (val < node.v):\n",
    "            if node.l != None:\n",
    "                self._add(val, node.l)\n",
    "            else:\n",
    "                node.l = Node(val)\n",
    "        else:\n",
    "            if node.r != None:\n",
    "                self._add(val,node.r)\n",
    "            else:\n",
    "                node.r = Node(val)\n",
    "    \n",
    "    def find(self,val):\n",
    "        if self.root != None:\n",
    "            return self._find(val,self.root)\n",
    "        else:\n",
    "            return None\n",
    "    \n",
    "    def _find(self,val,node):\n",
    "        if val == node.v:\n",
    "            return node\n",
    "        elif (val < node.v) and (node.l <> None):\n",
    "            self._find(val,node.l)\n",
    "        elif (val > node.v) and (node.r <> None):\n",
    "            self._find(val,node.r)\n",
    "    \n",
    "    def deleteTree(self):\n",
    "        self.root = None\n",
    "        \n",
    "    def printTree(self):\n",
    "        if self.root <> None:\n",
    "            self._printTree(self.root)\n",
    "            \n",
    "    def _printTree(self,node):\n",
    "        if (node <> None):\n",
    "            self._printTree(node.l)\n",
    "            print str(node.v) + ' '\n",
    "            self._printTree(node.r)\n",
    "    "
   ]
  },
  {
   "cell_type": "code",
   "execution_count": 50,
   "metadata": {
    "collapsed": false
   },
   "outputs": [
    {
     "name": "stdout",
     "output_type": "stream",
     "text": [
      "0 \n",
      "2 \n",
      "3 \n",
      "4 \n",
      "8 \n"
     ]
    }
   ],
   "source": [
    "#     3\n",
    "# 0     4\n",
    "#   2      8\n",
    "tree = Tree()\n",
    "tree.add(3)\n",
    "tree.add(4)\n",
    "tree.add(0)\n",
    "tree.add(8)\n",
    "tree.add(2)\n",
    "tree.printTree()\n"
   ]
  },
  {
   "cell_type": "code",
   "execution_count": 53,
   "metadata": {
    "collapsed": false
   },
   "outputs": [
    {
     "name": "stdout",
     "output_type": "stream",
     "text": [
      "3\n",
      "None\n"
     ]
    }
   ],
   "source": [
    "print (tree.find(3)).v\n",
    "print tree.find(10)\n",
    "tree.deleteTree()\n",
    "tree.printTree()"
   ]
  }
 ],
 "metadata": {
  "anaconda-cloud": {},
  "kernelspec": {
   "display_name": "Python [Root]",
   "language": "python",
   "name": "Python [Root]"
  },
  "language_info": {
   "codemirror_mode": {
    "name": "ipython",
    "version": 2
   },
   "file_extension": ".py",
   "mimetype": "text/x-python",
   "name": "python",
   "nbconvert_exporter": "python",
   "pygments_lexer": "ipython2",
   "version": "2.7.12"
  }
 },
 "nbformat": 4,
 "nbformat_minor": 2
}
