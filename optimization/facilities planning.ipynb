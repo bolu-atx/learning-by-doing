{
 "cells": [
  {
   "cell_type": "markdown",
   "metadata": {},
   "source": [
    "# In this notebook we solve a facilities planning problem"
   ]
  },
  {
   "cell_type": "markdown",
   "metadata": {},
   "source": [
    "## Problem Description\n",
    "\n",
    "A large supermarket chain in the UK needs to build warehouses for a set of supermarkets it is opening in Northern England. The locations of the supermarkets have been decided, but the locations of the warehouses are yet to be chosen.\n",
    "\n",
    "Several good candidate locations for the warehouses have been determined, but it remains to decide how many warehouses to open and at which candidate locations to build them.\n",
    "\n",
    "A typical warehouse. Source: Axisadman - CC BY-SA 3.0\n",
    "Opening many warehouses would be advantageous as this would reduce the average distance a truck has to drive from warehouse to supermarket, and hence reduce the delivery cost. However, opening a warehouse is costly.\n",
    "\n",
    "We will use Gurobi to find the optimal tradeoff between delivery cost and the cost of building new facilities.\n"
   ]
  },
  {
   "cell_type": "markdown",
   "metadata": {},
   "source": [
    "### Mathematical Model\n",
    "Our example is an instance of the Uncapacitated Facility Location Problem. There are many different types of facility location problems. For more details, see the book Facility Location: Applications and Theory.\n",
    "\n",
    "Let us now formulate a mathematical model for our problem. Let $I$ be the set of supermarket (or customer) locations. Let $J$ be the set of candidate warehouse (or facility) locations. The goal is to choose which locations in $J$ should be used to construct a facility. Therefore, for each location we define a binary variable\n",
    "\n",
    "$$x_j = \\left\\{\\begin{array}{ll}\n",
    "               1 & \\text{if we locate facility at candidate site $j \\in J$, }\\\\\n",
    "               0 & \\mathrm{otherwise.}\n",
    "              \\end{array}\\right.$$\n",
    "              \n",
    "There is a cost associated with constructing each warehouse. We denote this fixed charge by $f_j$.\n",
    "\n",
    "We also define continuous variables $y_{ij}$ to be the fraction of supply received by customer $i$ from facility $j$. These quantities are positive, so we have the constraints:\n",
    "\n",
    "$$y_{ij} \\ge 0, \\quad \\forall i \\in I, j \\in J.$$\n",
    "\n",
    "We denote by $c_{ij}$ the cost of shipping between candidate warehouse site $j$ and supermarket location $i$. This cost is usually proportional to the distance $d_{ij}$ between the facility and the customer:\n",
    "\n",
    "$$c_{ij} = \\alpha d_{ij}$$\n",
    "\n",
    "The constant $\\alpha$ is the cost per mile of driving, adjusted to incorporate the average number of a trips a delivery truck would be expected to make over a 5 year period.\n",
    "\n",
    "We wish to minimize the total cost to open and operate the facilites. This is the sum of the cost of opening facilities and the cost related to shipping between facilities and customers:\n",
    "\n",
    "$$\\text{total cost} = \\sum_{j \\in J} f_j x_j + \\sum_{j \\in J} \\sum_{i \\in I} c_{ij} y_{ij}.$$\n",
    "\n",
    "This total cost measures the tradeoff between the cost of building a new warehouse and the total delivery cost over a 5 year period.\n",
    "\n",
    "\n",
    "\n",
    "Finally, we need to add two constraints. First, the demand for each customer must be fulfilled. That is, the sum of the fraction received from each facility for each customer must be equal to 1:\n",
    "\n",
    "$$\\sum_{j \\in J} y_{ij} = 1, \\quad \\forall i \\in I.$$\n",
    "\n",
    "Second, we can only ship from facility $j$ if that facility has actually been built. So we have the following constraints:\n",
    "\n",
    "$$y_{ij} \\leq x_{ij}, \\quad \\forall i \\in I \\quad \\forall j \\in J.$$\n",
    "\n",
    "Thus, the uncapacitated facility location problem is defined by the following model in the variables $x_j$ and $y_{ij}$:\n",
    "$$\n",
    "\\begin{array}{ll}\n",
    "        \\text{minimize}   & {\\displaystyle \\sum_{j \\in J} f_j x_j + \\sum_{j \\in J} \\sum_{i \\in I} c_{ij} y_{ij}} \\\\\n",
    "        \\text{subject to} & {\\displaystyle \\sum_{j \\in J} y_{ij}} = 1, \\quad \\forall i \\in I, \\\\\n",
    "                          & y_{ij} \\leq x_{ij}, \\quad \\forall i \\in I, \\forall j \\in J,  \\\\\n",
    "                          & y_{ij} \\geq 0, \\quad \\forall i \\in I, \\forall j \\in J, \\\\\n",
    "                          & x_j \\in \\{ 0, 1 \\}, \\quad \\forall j \\in J.\n",
    "        \\end{array}\n",
    "$$"
   ]
  },
  {
   "cell_type": "code",
   "execution_count": 1,
   "metadata": {
    "collapsed": true
   },
   "outputs": [],
   "source": [
    "from pyomo.environ import *"
   ]
  },
  {
   "cell_type": "code",
   "execution_count": 2,
   "metadata": {
    "collapsed": true
   },
   "outputs": [],
   "source": [
    "model = ConcreteModel()"
   ]
  },
  {
   "cell_type": "code",
   "execution_count": null,
   "metadata": {
    "collapsed": true
   },
   "outputs": [],
   "source": [
    "#1 define the sets\n",
    "model.clients = Set(initialize=['seattle','san-diego'], doc='Canning plants')\n",
    "model.facilities = Set(initialize=['new-york','chicago', 'topeka'], doc='Markets')\n",
    "\n",
    "def distance(a,b):\n",
    "    dx = a[0] - b[0]\n",
    "    dy = a[1] - b[1]\n",
    "    return math.sqrt(dx*dx + dy*dy)"
   ]
  },
  {
   "cell_type": "code",
   "execution_count": null,
   "metadata": {
    "collapsed": true
   },
   "outputs": [],
   "source": [
    "from gurobipy import *\n",
    "import math\n",
    "\n",
    "\n",
    "\n",
    "# Problem data\n",
    "clients = [[0, 1.5],[2.5, 1.2]]\n",
    "facilities = [[0,0],[0,1],[0,1],\n",
    "              [1,0],[1,1],[1,2],\n",
    "              [2,0],[2,1],[2,2]]\n",
    "charge = [3,2,3,1,3,3,4,3,2]\n",
    "\n",
    "numFacilities = len(facilities)\n",
    "numClients = len(clients)\n",
    "\n",
    "m = Model()\n",
    "\n",
    "# Add variables\n",
    "x = {}\n",
    "y = {}\n",
    "d = {} # Distance matrix (not a variable)\n",
    "alpha = 1\n",
    "\n",
    "for j in range(numFacilities):\n",
    "  x[j] = m.addVar(vtype=GRB.BINARY, name=\"x%d\" % j)\n",
    "\n",
    "for i in range(numClients):\n",
    "  for j in range(numFacilities):\n",
    "    y[(i,j)] = m.addVar(lb=0, vtype=GRB.CONTINUOUS, name=\"t%d,%d\" % (i,j))\n",
    "    d[(i,j)] = distance(clients[i], facilities[j])\n",
    "\n",
    "m.update()\n",
    "\n",
    "# Add constraints\n",
    "for i in range(numClients):\n",
    "  for j in range(numFacilities):\n",
    "    m.addConstr(y[(i,j)] <= x[j])\n",
    "\n",
    "for i in range(numClients):\n",
    "  m.addConstr(quicksum(y[(i,j)] for j in range(numFacilities)) == 1)\n",
    "\n",
    "m.setObjective( quicksum(charge[j]*x[j] + quicksum(alpha*d[(i,j)]*y[(i,j)]\n",
    "                for i in range(numClients)) for j in range(numFacilities)) )\n",
    "\n",
    "m.optimize()\n"
   ]
  }
 ],
 "metadata": {
  "kernelspec": {
   "display_name": "Python 2",
   "language": "python",
   "name": "python2"
  },
  "language_info": {
   "codemirror_mode": {
    "name": "ipython",
    "version": 2
   },
   "file_extension": ".py",
   "mimetype": "text/x-python",
   "name": "python",
   "nbconvert_exporter": "python",
   "pygments_lexer": "ipython2",
   "version": "2.7.13"
  }
 },
 "nbformat": 4,
 "nbformat_minor": 0
}
