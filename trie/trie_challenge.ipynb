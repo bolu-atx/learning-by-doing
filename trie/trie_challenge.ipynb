{
 "cells": [
  {
   "cell_type": "markdown",
   "metadata": {},
   "source": [
    "This notebook was prepared by [Donne Martin](https://github.com/donnemartin). Source and license info is on [GitHub](https://github.com/donnemartin/interactive-coding-challenges)."
   ]
  },
  {
   "cell_type": "markdown",
   "metadata": {},
   "source": [
    "# Challenge Notebook"
   ]
  },
  {
   "cell_type": "markdown",
   "metadata": {},
   "source": [
    "## Problem: Implement a trie with find, insert, remove, and list_words methods.\n",
    "\n",
    "* [Constraints](#Constraints)\n",
    "* [Test Cases](#Test-Cases)\n",
    "* [Algorithm](#Algorithm)\n",
    "* [Code](#Code)\n",
    "* [Unit Test](#Unit-Test)\n",
    "* [Solution Notebook](#Solution-Notebook)"
   ]
  },
  {
   "cell_type": "markdown",
   "metadata": {},
   "source": [
    "## Constraints\n",
    "\n",
    "* Can we assume we are working with strings?\n",
    "    * Yes\n",
    "* Are the strings in ASCII?\n",
    "    * Yes\n",
    "* Should `find` only match exact words with a terminating character?\n",
    "    * Yes\n",
    "* Should `list_words` only return words with a terminating character?\n",
    "    * Yes\n",
    "* Can we assume this fits memory?\n",
    "    * Yes"
   ]
  },
  {
   "cell_type": "markdown",
   "metadata": {},
   "source": [
    "## Test Cases\n",
    "\n",
    "<pre>\n",
    "\n",
    "         root\n",
    "       /  |  \\\n",
    "      h   a*  m\n",
    "     / \\   \\   \\\n",
    "    a   e*  t*  e*\n",
    "   / \\         / \\\n",
    "  s*  t*      n*  t*\n",
    "             /\n",
    "            s*\n",
    "\n",
    "find\n",
    "\n",
    "* Find on an empty trie\n",
    "* Find non-matching\n",
    "* Find matching\n",
    "\n",
    "insert\n",
    "\n",
    "* Insert on empty trie\n",
    "* Insert to make a leaf terminator char\n",
    "* Insert to extend an existing terminator char\n",
    "\n",
    "remove\n",
    "\n",
    "* Remove me\n",
    "* Remove mens\n",
    "* Remove a\n",
    "* Remove has\n",
    "\n",
    "list_words\n",
    "\n",
    "* List empty\n",
    "* List general case\n",
    "</pre>\n",
    "\n"
   ]
  },
  {
   "cell_type": "markdown",
   "metadata": {},
   "source": [
    "## Algorithm\n",
    "\n",
    "Refer to the [Solution Notebook](http://nbviewer.ipython.org/github/donnemartin/interactive-coding-challenges/blob/master/graphs_trees/trie/trie_solution.ipynb).  If you are stuck and need a hint, the solution notebook's algorithm discussion might be a good place to start.\n",
    "\n",
    "### find\n",
    "\n",
    "* Set node to the root\n",
    "* For each char in the input word\n",
    "    * Check the current node's children to see if it contains the char\n",
    "        * If a child has the char, set node to the child\n",
    "        * Else, return None\n",
    "* Return the last child node if it has a terminator, else None\n",
    "\n",
    "Complexity:\n",
    "* Time: O(m), where m is the length of the word\n",
    "* Space: O(h) for the recursion depth (tree height), or O(1) if using an iterative approach\n",
    "\n",
    "### insert\n",
    "\n",
    "* set node to the root\n",
    "* For each char in the input word\n",
    "    * Check the current node's children to see if it contains the char\n",
    "        * If a child has the char, set node to the child\n",
    "        * Else, insert a new node with the char\n",
    "            * Update children and parents\n",
    "* Set the last node as a terminating node\n",
    "\n",
    "Complexity:\n",
    "* Time: O(m), where m is the length of the word\n",
    "* Space: O(h) for the recursion depth (tree height), or O(1) if using an iterative approach\n",
    "\n",
    "### remove\n",
    "\n",
    "* Determine the matching terminating node by calling the find method\n",
    "* If the matching node has children, remove the terminator to prevent orphaning its children\n",
    "* Set the parent node to the matching node's parent\n",
    "* We'll be looping up the parent chain to propagate the delete\n",
    "* While the parent is valid\n",
    "    * If the node has children\n",
    "        * Return to prevent orphaning its remaining children\n",
    "    * If the node is a terminating node and it isn't the original matching node from the find call\n",
    "        * Return to prevent deleting this additional valid word\n",
    "    * Remove the parent node's child entry matching the node\n",
    "    * Set the node to the parent\n",
    "    * Set the parent to the parent's parent\n",
    "\n",
    "Complexity:\n",
    "* Time: O(m+h), where where m is the length of the word and h is the tree height\n",
    "* Space: O(h) for the recursion depth (tree height), or O(1) if using an iterative approach\n",
    "\n",
    "### list_words\n",
    "\n",
    "* Do a pre-order traversal, passing down the current word\n",
    "    * When you reach a terminating node, add it to the list of results\n",
    "\n",
    "Complexity:\n",
    "* Time: O(n)\n",
    "* Space: O(h) for the recursion depth (tree height), or O(1) if using an iterative approach"
   ]
  },
  {
   "cell_type": "markdown",
   "metadata": {},
   "source": [
    "## Code"
   ]
  },
  {
   "cell_type": "code",
   "execution_count": 97,
   "metadata": {
    "collapsed": false,
    "scrolled": true
   },
   "outputs": [
    {
     "name": "stdout",
     "output_type": "stream",
     "text": [
      "Test: Insert\n"
     ]
    },
    {
     "data": {
      "text/plain": [
       "['a', 'at', 'has', 'hat', 'he', 'bbq', 'me', 'met', 'men', 'mens', 'wtf']"
      ]
     },
     "execution_count": 97,
     "metadata": {},
     "output_type": "execute_result"
    }
   ],
   "source": [
    "trie = Trie()\n",
    "\n",
    "print('Test: Insert')\n",
    "words = ['a', 'at', 'has', 'hat', 'he',\n",
    "         'me', 'men', 'mens', 'met']\n",
    "for word in words:\n",
    "    trie.insert(word)\n",
    "\n",
    "for word in trie.list_words():\n",
    "    assert_true(trie.find(word) is not None)\n",
    "\n",
    "trie.insert('wtf')\n",
    "trie.insert('bbq')\n",
    "trie.list_words()"
   ]
  },
  {
   "cell_type": "code",
   "execution_count": 99,
   "metadata": {
    "collapsed": true
   },
   "outputs": [],
   "source": [
    "trie.remove('bbq')"
   ]
  },
  {
   "cell_type": "code",
   "execution_count": 93,
   "metadata": {
    "collapsed": false
   },
   "outputs": [],
   "source": [
    "from collections import OrderedDict\n",
    "\n",
    "class Node(object):\n",
    "    def __init__(self, data, parent=None, terminates=False):\n",
    "        if data is None:\n",
    "            raise TypeError('data cannot be none.')\n",
    "        self.data = data\n",
    "        self.terminates = terminates\n",
    "        self.parent = parent\n",
    "        self.children = {}\n",
    "        \n",
    "class Trie(object):\n",
    "\n",
    "    def __init__(self):\n",
    "        self.root = Node('')\n",
    "\n",
    "    def find(self, word):\n",
    "        if word is None:\n",
    "            raise TypeError('Words cannot be blank or none.')\n",
    "        node = self.root\n",
    "        \n",
    "        # traverse down the trie path\n",
    "        for char in word:\n",
    "            if char in node.children.keys():\n",
    "                node = node.children[char]\n",
    "            else:\n",
    "                return None\n",
    "            \n",
    "        return node if node.terminates else None\n",
    "\n",
    "    def insert(self, word):\n",
    "        if word is None:\n",
    "            raise TypeError('Words cannot be blank or none.')\n",
    "            \n",
    "        node = self.root\n",
    "        parent = None\n",
    "        \n",
    "        # go through each char\n",
    "        for char in word:\n",
    "            # traverse down the node if it already exists\n",
    "            if char in node.children:\n",
    "                node = node.children[char]\n",
    "            # add the node, then traverse down\n",
    "            else:\n",
    "                node.children[char] = Node(char, parent = node)\n",
    "                node = node.children[char]\n",
    "        \n",
    "        node.terminates = True #last char terminates the word\n",
    "        \n",
    "\n",
    "    def remove(self, word):\n",
    "        if word is None:\n",
    "            raise TypeError('Word cannot be none.')\n",
    "        node = self.find(word)\n",
    "        \n",
    "        if node is None:\n",
    "            return\n",
    "        # reset it to a None-terminating node\n",
    "        node.terminates = False\n",
    "        \n",
    "        parent = node.parent\n",
    "        # prevent the delete from deleting nodes that share the same parent (its siblings) \n",
    "        # or terminating nodes of other words\n",
    "        while parent is not None:\n",
    "            if node.children or node.terminates:\n",
    "                return\n",
    "            del parent.children[node.data]\n",
    "            node = parent\n",
    "            parent = parent.parent                 \n",
    "    \n",
    "    def list_words(self):\n",
    "        results = []\n",
    "        curr_word = ''\n",
    "        self._list_words(self.root, curr_word, results)\n",
    "        return results\n",
    "    \n",
    "    # recursively explore all paths down the TRIE\n",
    "    def _list_words(self, node, curr_word, results):\n",
    "        if node is None:\n",
    "            return\n",
    "        for key, child in node.children.items():\n",
    "            if child.terminates:\n",
    "                results.append(curr_word + key)\n",
    "            self._list_words(child, curr_word + key, results)        "
   ]
  },
  {
   "cell_type": "markdown",
   "metadata": {},
   "source": [
    "## Unit Test"
   ]
  },
  {
   "cell_type": "markdown",
   "metadata": {},
   "source": [
    "**The following unit test is expected to fail until you solve the challenge.**"
   ]
  },
  {
   "cell_type": "code",
   "execution_count": 94,
   "metadata": {
    "collapsed": false
   },
   "outputs": [
    {
     "name": "stdout",
     "output_type": "stream",
     "text": [
      "Test: Remove from empty trie\n",
      "Test: Insert\n",
      "Test: Remove me\n",
      "Test: Remove mens\n",
      "Test: Remove a\n",
      "Test: Remove has\n",
      "Success: test_trie\n"
     ]
    }
   ],
   "source": [
    "# %load test_trie.py\n",
    "from nose.tools import assert_true\n",
    "\n",
    "\n",
    "class TestTrie(object):\n",
    "\n",
    "    def test_trie(self):\n",
    "        print('Test: Remove from empty trie')\n",
    "        trie = Trie()\n",
    "        assert_true(trie.remove('foo') is None)\n",
    "\n",
    "        print('Test: Insert')\n",
    "        words = ['a', 'at', 'has', 'hat', 'he',\n",
    "                 'me', 'men', 'mens', 'met']\n",
    "        for word in words:\n",
    "            trie.insert(word)\n",
    "        for word in trie.list_words():\n",
    "            assert_true(trie.find(word) is not None)\n",
    "\n",
    "        # Remove me\n",
    "        # Remove mens\n",
    "        # Remove a\n",
    "            \n",
    "        print('Test: Remove me')\n",
    "        trie.remove('me')\n",
    "        words_removed = ['me']\n",
    "        words = ['a', 'at', 'has', 'hat', 'he',\n",
    "                 'men', 'mens', 'met']\n",
    "        for word in words:\n",
    "            assert_true(trie.find(word) is not None)\n",
    "        for word in words_removed:\n",
    "            assert_true(trie.find(word) is None)\n",
    "\n",
    "        print('Test: Remove mens')\n",
    "        trie.remove('mens')\n",
    "        words_removed = ['me', 'mens']\n",
    "        words = ['a', 'at', 'has', 'hat', 'he',\n",
    "                 'men', 'met']\n",
    "        for word in words:\n",
    "            assert_true(trie.find(word) is not None)\n",
    "        for word in words_removed:\n",
    "            assert_true(trie.find(word) is None)\n",
    "\n",
    "        print('Test: Remove a')\n",
    "        trie.remove('a')\n",
    "        words_removed = ['a', 'me', 'mens']\n",
    "        words = ['at', 'has', 'hat', 'he',\n",
    "                 'men', 'met']\n",
    "        for word in words:\n",
    "            assert_true(trie.find(word) is not None)\n",
    "        for word in words_removed:\n",
    "            assert_true(trie.find(word) is None)\n",
    "\n",
    "        print('Test: Remove has')\n",
    "        trie.remove('has')\n",
    "        words_removed = ['a', 'has', 'me', 'mens']\n",
    "        words = ['at', 'hat', 'he',\n",
    "                 'men', 'met']\n",
    "        for word in words:\n",
    "            assert_true(trie.find(word) is not None)\n",
    "        for word in words_removed:\n",
    "            assert_true(trie.find(word) is None)\n",
    "\n",
    "        print('Success: test_trie')\n",
    "\n",
    "\n",
    "def main():\n",
    "    test = TestTrie()\n",
    "    test.test_trie()\n",
    "\n",
    "\n",
    "if __name__ == '__main__':\n",
    "    main()"
   ]
  },
  {
   "cell_type": "markdown",
   "metadata": {},
   "source": [
    "## Solution Notebook\n",
    "\n",
    "Review the [Solution Notebook](http://nbviewer.ipython.org/github/donnemartin/interactive-coding-challenges/blob/master/graphs_trees/trie/trie_solution.ipynb) for a discussion on algorithms and code solutions."
   ]
  }
 ],
 "metadata": {
  "kernelspec": {
   "display_name": "Python [Root]",
   "language": "python",
   "name": "Python [Root]"
  },
  "language_info": {
   "codemirror_mode": {
    "name": "ipython",
    "version": 2
   },
   "file_extension": ".py",
   "mimetype": "text/x-python",
   "name": "python",
   "nbconvert_exporter": "python",
   "pygments_lexer": "ipython2",
   "version": "2.7.12"
  }
 },
 "nbformat": 4,
 "nbformat_minor": 0
}
